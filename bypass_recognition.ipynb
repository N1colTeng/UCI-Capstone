{
 "cells": [
  {
   "cell_type": "code",
   "execution_count": 1,
   "id": "a8f5d74d",
   "metadata": {},
   "outputs": [],
   "source": [
    "import pandas as pd\n",
    "import ast\n",
    "import numpy as np\n",
    "import pandas as pd\n",
    "from sklearn.feature_extraction.text import TfidfVectorizer\n",
    "from sklearn.metrics.pairwise import cosine_similarity\n",
    "import re\n",
    "from functions import parse_revision_history\n",
    "from functions import classify_bypass_from_parsed\n",
    "from functions import drop_clusters\n",
    "from functions import compare_build_numbers\n",
    "from functions import overlap_security_updates\n",
    "from functions import eliminate_by_SU_and_RD"
   ]
  },
  {
   "cell_type": "code",
   "execution_count": 2,
   "id": "6d3ee99e",
   "metadata": {},
   "outputs": [],
   "source": [
    "df = pd.read_csv('./2024_sample_data_update.csv')"
   ]
  },
  {
   "cell_type": "code",
   "execution_count": 3,
   "id": "a6dc57cd",
   "metadata": {},
   "outputs": [
    {
     "data": {
      "text/html": [
       "<div>\n",
       "<style scoped>\n",
       "    .dataframe tbody tr th:only-of-type {\n",
       "        vertical-align: middle;\n",
       "    }\n",
       "\n",
       "    .dataframe tbody tr th {\n",
       "        vertical-align: top;\n",
       "    }\n",
       "\n",
       "    .dataframe thead th {\n",
       "        text-align: right;\n",
       "    }\n",
       "</style>\n",
       "<table border=\"1\" class=\"dataframe\">\n",
       "  <thead>\n",
       "    <tr style=\"text-align: right;\">\n",
       "      <th></th>\n",
       "      <th>Release date</th>\n",
       "      <th>Last Updated</th>\n",
       "      <th>CVE Number</th>\n",
       "      <th>CVE Number (Link)</th>\n",
       "      <th>CVE Title</th>\n",
       "      <th>Vector String</th>\n",
       "      <th>CWE</th>\n",
       "      <th>revision</th>\n",
       "      <th>security_updates</th>\n",
       "    </tr>\n",
       "  </thead>\n",
       "  <tbody>\n",
       "    <tr>\n",
       "      <th>0</th>\n",
       "      <td>Jan 9, 2024</td>\n",
       "      <td>Jan 9, 2024</td>\n",
       "      <td>CVE-2024-20672</td>\n",
       "      <td>https://msrc.microsoft.com/update-guide/vulner...</td>\n",
       "      <td>.NET Denial of Service Vulnerability</td>\n",
       "      <td>CVSS:3.1/AV:N/AC:L/PR:N/UI:N/S:U/C:N/I:N/A:H/E...</td>\n",
       "      <td>CWE-400: Uncontrolled Resource Consumption</td>\n",
       "      <td>['1.0\\nJan 9, 2024\\nInformation published.\\n']</td>\n",
       "      <td>[('.NET 7.0', '-', '7.0.15'), ('.NET 6.0', '-'...</td>\n",
       "    </tr>\n",
       "    <tr>\n",
       "      <th>1</th>\n",
       "      <td>Feb 13, 2024</td>\n",
       "      <td>Feb 13, 2024</td>\n",
       "      <td>CVE-2024-21386</td>\n",
       "      <td>https://msrc.microsoft.com/update-guide/vulner...</td>\n",
       "      <td>.NET Denial of Service Vulnerability</td>\n",
       "      <td>CVSS:3.1/AV:N/AC:L/PR:N/UI:N/S:U/C:N/I:N/A:H/E...</td>\n",
       "      <td>CWE-400: Uncontrolled Resource Consumption</td>\n",
       "      <td>['1.0\\nFeb 13, 2024\\nInformation published.\\n']</td>\n",
       "      <td>[('Microsoft Visual Studio 2022 version 17.6',...</td>\n",
       "    </tr>\n",
       "    <tr>\n",
       "      <th>2</th>\n",
       "      <td>Feb 13, 2024</td>\n",
       "      <td>Feb 13, 2024</td>\n",
       "      <td>CVE-2024-21404</td>\n",
       "      <td>https://msrc.microsoft.com/update-guide/vulner...</td>\n",
       "      <td>.NET Denial of Service Vulnerability</td>\n",
       "      <td>CVSS:3.1/AV:N/AC:L/PR:N/UI:N/S:U/C:N/I:N/A:H/E...</td>\n",
       "      <td>CWE-476: NULL Pointer Dereference</td>\n",
       "      <td>['1.0\\nFeb 13, 2024\\nInformation published.\\n']</td>\n",
       "      <td>[('Microsoft Visual Studio 2022 version 17.8',...</td>\n",
       "    </tr>\n",
       "    <tr>\n",
       "      <th>3</th>\n",
       "      <td>Jan 9, 2024</td>\n",
       "      <td>Feb 13, 2024</td>\n",
       "      <td>CVE-2024-21312</td>\n",
       "      <td>https://msrc.microsoft.com/update-guide/vulner...</td>\n",
       "      <td>.NET Framework Denial of Service Vulnerability</td>\n",
       "      <td>CVSS:3.1/AV:N/AC:L/PR:N/UI:N/S:U/C:N/I:N/A:H/E...</td>\n",
       "      <td>CWE-20: Improper Input Validation</td>\n",
       "      <td>['1.3\\nFeb 13, 2024\\nTo address a known issue ...</td>\n",
       "      <td>[('Microsoft .NET Framework 3.5', 'Windows Ser...</td>\n",
       "    </tr>\n",
       "    <tr>\n",
       "      <th>4</th>\n",
       "      <td>Apr 12, 2022</td>\n",
       "      <td>Jun 24, 2024</td>\n",
       "      <td>CVE-2022-26832</td>\n",
       "      <td>https://msrc.microsoft.com/update-guide/vulner...</td>\n",
       "      <td>.NET Framework Denial of Service Vulnerability</td>\n",
       "      <td>CVSS:3.1/AV:N/AC:L/PR:N/UI:N/S:U/C:N/I:N/A:H/E...</td>\n",
       "      <td>NaN</td>\n",
       "      <td>['4.1\\nJun 24, 2024\\nUpdated the build numbers...</td>\n",
       "      <td>[('Microsoft .NET Framework 3.5 AND 4.6.2/4.7/...</td>\n",
       "    </tr>\n",
       "  </tbody>\n",
       "</table>\n",
       "</div>"
      ],
      "text/plain": [
       "   Release date  Last Updated      CVE Number  \\\n",
       "0   Jan 9, 2024   Jan 9, 2024  CVE-2024-20672   \n",
       "1  Feb 13, 2024  Feb 13, 2024  CVE-2024-21386   \n",
       "2  Feb 13, 2024  Feb 13, 2024  CVE-2024-21404   \n",
       "3   Jan 9, 2024  Feb 13, 2024  CVE-2024-21312   \n",
       "4  Apr 12, 2022  Jun 24, 2024  CVE-2022-26832   \n",
       "\n",
       "                                   CVE Number (Link)  \\\n",
       "0  https://msrc.microsoft.com/update-guide/vulner...   \n",
       "1  https://msrc.microsoft.com/update-guide/vulner...   \n",
       "2  https://msrc.microsoft.com/update-guide/vulner...   \n",
       "3  https://msrc.microsoft.com/update-guide/vulner...   \n",
       "4  https://msrc.microsoft.com/update-guide/vulner...   \n",
       "\n",
       "                                        CVE Title  \\\n",
       "0            .NET Denial of Service Vulnerability   \n",
       "1            .NET Denial of Service Vulnerability   \n",
       "2            .NET Denial of Service Vulnerability   \n",
       "3  .NET Framework Denial of Service Vulnerability   \n",
       "4  .NET Framework Denial of Service Vulnerability   \n",
       "\n",
       "                                       Vector String  \\\n",
       "0  CVSS:3.1/AV:N/AC:L/PR:N/UI:N/S:U/C:N/I:N/A:H/E...   \n",
       "1  CVSS:3.1/AV:N/AC:L/PR:N/UI:N/S:U/C:N/I:N/A:H/E...   \n",
       "2  CVSS:3.1/AV:N/AC:L/PR:N/UI:N/S:U/C:N/I:N/A:H/E...   \n",
       "3  CVSS:3.1/AV:N/AC:L/PR:N/UI:N/S:U/C:N/I:N/A:H/E...   \n",
       "4  CVSS:3.1/AV:N/AC:L/PR:N/UI:N/S:U/C:N/I:N/A:H/E...   \n",
       "\n",
       "                                          CWE  \\\n",
       "0  CWE-400: Uncontrolled Resource Consumption   \n",
       "1  CWE-400: Uncontrolled Resource Consumption   \n",
       "2           CWE-476: NULL Pointer Dereference   \n",
       "3           CWE-20: Improper Input Validation   \n",
       "4                                         NaN   \n",
       "\n",
       "                                            revision  \\\n",
       "0     ['1.0\\nJan 9, 2024\\nInformation published.\\n']   \n",
       "1    ['1.0\\nFeb 13, 2024\\nInformation published.\\n']   \n",
       "2    ['1.0\\nFeb 13, 2024\\nInformation published.\\n']   \n",
       "3  ['1.3\\nFeb 13, 2024\\nTo address a known issue ...   \n",
       "4  ['4.1\\nJun 24, 2024\\nUpdated the build numbers...   \n",
       "\n",
       "                                    security_updates  \n",
       "0  [('.NET 7.0', '-', '7.0.15'), ('.NET 6.0', '-'...  \n",
       "1  [('Microsoft Visual Studio 2022 version 17.6',...  \n",
       "2  [('Microsoft Visual Studio 2022 version 17.8',...  \n",
       "3  [('Microsoft .NET Framework 3.5', 'Windows Ser...  \n",
       "4  [('Microsoft .NET Framework 3.5 AND 4.6.2/4.7/...  "
      ]
     },
     "execution_count": 3,
     "metadata": {},
     "output_type": "execute_result"
    }
   ],
   "source": [
    "df.head()"
   ]
  },
  {
   "cell_type": "code",
   "execution_count": 4,
   "id": "65d05939",
   "metadata": {},
   "outputs": [
    {
     "data": {
      "text/plain": [
       "Release date          0\n",
       "Last Updated          0\n",
       "CVE Number            0\n",
       "CVE Number (Link)     0\n",
       "CVE Title             1\n",
       "Vector String        11\n",
       "CWE                  20\n",
       "revision              0\n",
       "security_updates      0\n",
       "dtype: int64"
      ]
     },
     "execution_count": 4,
     "metadata": {},
     "output_type": "execute_result"
    }
   ],
   "source": [
    "df.isna().sum()"
   ]
  },
  {
   "cell_type": "code",
   "execution_count": 5,
   "id": "747922c3",
   "metadata": {},
   "outputs": [],
   "source": [
    "df['CVE Title'].fillna('', inplace=True)\n",
    "df['Vector String'].fillna('', inplace=True)\n",
    "df['CWE'].fillna('', inplace=True)"
   ]
  },
  {
   "cell_type": "code",
   "execution_count": 6,
   "id": "239ff301",
   "metadata": {},
   "outputs": [
    {
     "data": {
      "text/plain": [
       "Release date         0\n",
       "Last Updated         0\n",
       "CVE Number           0\n",
       "CVE Number (Link)    0\n",
       "CVE Title            0\n",
       "Vector String        0\n",
       "CWE                  0\n",
       "revision             0\n",
       "security_updates     0\n",
       "dtype: int64"
      ]
     },
     "execution_count": 6,
     "metadata": {},
     "output_type": "execute_result"
    }
   ],
   "source": [
    "df.isna().sum()"
   ]
  },
  {
   "cell_type": "code",
   "execution_count": 7,
   "id": "8ccc42f9",
   "metadata": {},
   "outputs": [
    {
     "name": "stdout",
     "output_type": "stream",
     "text": [
      "[('.NET 7.0', '-', '7.0.15'), ('.NET 6.0', '-', '6.0.26')]\n"
     ]
    }
   ],
   "source": [
    "df['security_updates'] = df['security_updates'].apply(ast.literal_eval)\n",
    "print(df['security_updates'].iloc[0])"
   ]
  },
  {
   "cell_type": "code",
   "execution_count": 8,
   "id": "916eeda6",
   "metadata": {},
   "outputs": [
    {
     "data": {
      "text/plain": [
       "2"
      ]
     },
     "execution_count": 8,
     "metadata": {},
     "output_type": "execute_result"
    }
   ],
   "source": [
    "len(df['security_updates'].iloc[0])"
   ]
  },
  {
   "cell_type": "code",
   "execution_count": 9,
   "id": "b0dd93a3",
   "metadata": {},
   "outputs": [],
   "source": [
    "df['revision_indication'] = df['revision'].apply(lambda x: classify_bypass_from_parsed(parse_revision_history(x)))"
   ]
  },
  {
   "cell_type": "code",
   "execution_count": 10,
   "id": "42c32634",
   "metadata": {},
   "outputs": [
    {
     "data": {
      "text/plain": [
       "0       unlikely\n",
       "1       unlikely\n",
       "2       unlikely\n",
       "3       unlikely\n",
       "4       unlikely\n",
       "          ...   \n",
       "996     unlikely\n",
       "997     unlikely\n",
       "998     unlikely\n",
       "999     unlikely\n",
       "1000    unlikely\n",
       "Name: revision_indication, Length: 1001, dtype: object"
      ]
     },
     "execution_count": 10,
     "metadata": {},
     "output_type": "execute_result"
    }
   ],
   "source": [
    "df['revision_indication']"
   ]
  },
  {
   "cell_type": "code",
   "execution_count": 11,
   "id": "1d766348",
   "metadata": {},
   "outputs": [],
   "source": [
    "#Cluster the rows with same or very similar CVE Titles\n",
    "\n",
    "\n",
    "vectorizer = TfidfVectorizer()\n",
    "tfidf_matrix = vectorizer.fit_transform(df['CVE Title'])\n",
    "\n",
    "similarity_matrix = cosine_similarity(tfidf_matrix, tfidf_matrix)\n",
    "\n",
    "#set the threshold manually\n",
    "threshold = 0.8\n",
    "\n",
    "clusters = np.arange(len(similarity_matrix))\n",
    "\n",
    "for i in range(len(similarity_matrix)):\n",
    "    for j in range(i + 1, len(similarity_matrix)):\n",
    "        if similarity_matrix[i, j] >= threshold:\n",
    "            clusters[j] = clusters[i]\n",
    "\n",
    "df['Cluster'] = clusters"
   ]
  },
  {
   "cell_type": "code",
   "execution_count": 12,
   "id": "3863862e",
   "metadata": {},
   "outputs": [
    {
     "data": {
      "text/plain": [
       "1001"
      ]
     },
     "execution_count": 12,
     "metadata": {},
     "output_type": "execute_result"
    }
   ],
   "source": [
    "len(df)"
   ]
  },
  {
   "cell_type": "code",
   "execution_count": 13,
   "id": "c162e212",
   "metadata": {},
   "outputs": [
    {
     "name": "stdout",
     "output_type": "stream",
     "text": [
      "Cluster\n",
      "0       3\n",
      "1       2\n",
      "2       1\n",
      "3      12\n",
      "4       4\n",
      "       ..\n",
      "346     1\n",
      "347     2\n",
      "348     3\n",
      "349     1\n",
      "350     1\n",
      "Length: 351, dtype: int64\n"
     ]
    }
   ],
   "source": [
    "df['Cluster'] = pd.factorize(df['Cluster'])[0]\n",
    "cluster_lengths = df.groupby('Cluster').size()\n",
    "print(cluster_lengths)"
   ]
  },
  {
   "cell_type": "code",
   "execution_count": 14,
   "id": "1c013179",
   "metadata": {},
   "outputs": [],
   "source": [
    "df = df.groupby('Cluster').apply(drop_clusters)\n",
    "df = df.dropna().reset_index(drop=True)"
   ]
  },
  {
   "cell_type": "code",
   "execution_count": 15,
   "id": "c79fe866",
   "metadata": {},
   "outputs": [
    {
     "data": {
      "text/plain": [
       "789"
      ]
     },
     "execution_count": 15,
     "metadata": {},
     "output_type": "execute_result"
    }
   ],
   "source": [
    "len(df)"
   ]
  },
  {
   "cell_type": "code",
   "execution_count": 16,
   "id": "79c41bcc",
   "metadata": {},
   "outputs": [
    {
     "name": "stdout",
     "output_type": "stream",
     "text": [
      "Cluster\n",
      "0       3\n",
      "1       2\n",
      "2      12\n",
      "3       4\n",
      "4       3\n",
      "       ..\n",
      "134     3\n",
      "135     5\n",
      "136     4\n",
      "137     2\n",
      "138     3\n",
      "Length: 139, dtype: int64\n"
     ]
    }
   ],
   "source": [
    "df['Cluster'] = pd.factorize(df['Cluster'])[0]\n",
    "cluster_lengths = df.groupby('Cluster').size()\n",
    "print(cluster_lengths)"
   ]
  },
  {
   "cell_type": "code",
   "execution_count": 17,
   "id": "864dac0d",
   "metadata": {},
   "outputs": [],
   "source": [
    "df = df.groupby('Cluster').apply(eliminate_by_SU_and_RD)\n",
    "df = df.reset_index(drop=True)"
   ]
  },
  {
   "cell_type": "code",
   "execution_count": 18,
   "id": "bffda596",
   "metadata": {},
   "outputs": [
    {
     "data": {
      "text/plain": [
       "515"
      ]
     },
     "execution_count": 18,
     "metadata": {},
     "output_type": "execute_result"
    }
   ],
   "source": [
    "len(df)"
   ]
  },
  {
   "cell_type": "code",
   "execution_count": 19,
   "id": "cdaa383b",
   "metadata": {},
   "outputs": [
    {
     "name": "stdout",
     "output_type": "stream",
     "text": [
      "0    .NET and Visual Studio Denial of Service Vulne...\n",
      "1    .NET, .NET Framework, and Visual Studio Denial...\n",
      "2    .NET, .NET Framework, and Visual Studio Denial...\n",
      "3    .NET, .NET Framework, and Visual Studio Denial...\n",
      "4    .NET, .NET Framework, and Visual Studio Elevat...\n",
      "5    .NET, .NET Framework, and Visual Studio Elevat...\n",
      "6    .NET, .NET Framework, and Visual Studio Remote...\n",
      "7    NET, .NET Framework, and Visual Studio Securit...\n",
      "Name: CVE Title, dtype: object\n"
     ]
    }
   ],
   "source": [
    "df['Cluster'] = pd.factorize(df['Cluster'])[0]\n",
    "cluster = df[df['Cluster'] == 0]['CVE Title']\n",
    "print(cluster)"
   ]
  },
  {
   "cell_type": "code",
   "execution_count": 20,
   "id": "0b82af8d",
   "metadata": {},
   "outputs": [
    {
     "name": "stdout",
     "output_type": "stream",
     "text": [
      "Cluster\n",
      "0     8\n",
      "1     2\n",
      "2     3\n",
      "3     4\n",
      "4     2\n",
      "     ..\n",
      "83    2\n",
      "84    3\n",
      "85    5\n",
      "86    4\n",
      "87    3\n",
      "Length: 88, dtype: int64\n"
     ]
    }
   ],
   "source": [
    "cluster_lengths = df.groupby('Cluster').size()\n",
    "print(cluster_lengths)"
   ]
  },
  {
   "cell_type": "code",
   "execution_count": 37,
   "id": "6fa6c7fd",
   "metadata": {},
   "outputs": [
    {
     "name": "stdout",
     "output_type": "stream",
     "text": [
      "512               CWE-122: Heap-based Buffer Overflow\n",
      "513           CWE-190: Integer Overflow or Wraparound\n",
      "514    CWE-250: Execution with Unnecessary Privileges\n",
      "Name: CWE, dtype: object\n"
     ]
    }
   ],
   "source": [
    "print(df[df['Cluster'] == 87]['CWE'])"
   ]
  },
  {
   "cell_type": "code",
   "execution_count": null,
   "id": "5b307f61",
   "metadata": {},
   "outputs": [],
   "source": []
  }
 ],
 "metadata": {
  "kernelspec": {
   "display_name": "Python 3 (ipykernel)",
   "language": "python",
   "name": "python3"
  },
  "language_info": {
   "codemirror_mode": {
    "name": "ipython",
    "version": 3
   },
   "file_extension": ".py",
   "mimetype": "text/x-python",
   "name": "python",
   "nbconvert_exporter": "python",
   "pygments_lexer": "ipython3",
   "version": "3.10.10"
  }
 },
 "nbformat": 4,
 "nbformat_minor": 5
}
